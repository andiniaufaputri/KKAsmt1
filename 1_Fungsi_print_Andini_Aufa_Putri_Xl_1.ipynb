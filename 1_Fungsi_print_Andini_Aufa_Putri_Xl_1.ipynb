{
  "nbformat": 4,
  "nbformat_minor": 0,
  "metadata": {
    "colab": {
      "provenance": [],
      "authorship_tag": "ABX9TyN8sN851nGITaTQ5n7n1Gb6",
      "include_colab_link": true
    },
    "kernelspec": {
      "name": "python3",
      "display_name": "Python 3"
    },
    "language_info": {
      "name": "python"
    }
  },
  "cells": [
    {
      "cell_type": "markdown",
      "metadata": {
        "id": "view-in-github",
        "colab_type": "text"
      },
      "source": [
        "<a href=\"https://colab.research.google.com/github/andiniaufaputri/KKAsmt1/blob/main/1_Fungsi_print_Andini_Aufa_Putri_Xl_1.ipynb\" target=\"_parent\"><img src=\"https://colab.research.google.com/assets/colab-badge.svg\" alt=\"Open In Colab\"/></a>"
      ]
    },
    {
      "cell_type": "markdown",
      "source": [
        "#menampilkan teks bebas"
      ],
      "metadata": {
        "id": "PJz2Y-mlAIGv"
      }
    },
    {
      "cell_type": "code",
      "source": [
        "print(\"halo dunia\")"
      ],
      "metadata": {
        "colab": {
          "base_uri": "https://localhost:8080/"
        },
        "id": "qiFk4dKtAL6O",
        "outputId": "e7461363-0111-4b45-cb6b-d7fb8bb2f883"
      },
      "execution_count": null,
      "outputs": [
        {
          "output_type": "stream",
          "name": "stdout",
          "text": [
            "halo dunia\n"
          ]
        }
      ]
    },
    {
      "cell_type": "code",
      "source": [
        "print(\"selamat datang di python\")"
      ],
      "metadata": {
        "colab": {
          "base_uri": "https://localhost:8080/"
        },
        "id": "b-s8csw3OfZI",
        "outputId": "539dbe78-224f-41f7-e156-c5df495a0f8e"
      },
      "execution_count": null,
      "outputs": [
        {
          "output_type": "stream",
          "name": "stdout",
          "text": [
            "selamat datang di python\n"
          ]
        }
      ]
    },
    {
      "cell_type": "code",
      "source": [
        "print(\"Andini Aufa Putri\")"
      ],
      "metadata": {
        "colab": {
          "base_uri": "https://localhost:8080/"
        },
        "id": "W95daF3fOswI",
        "outputId": "7b38ba8a-b722-46ad-c132-033b7803f79b"
      },
      "execution_count": null,
      "outputs": [
        {
          "output_type": "stream",
          "name": "stdout",
          "text": [
            "Andini Aufa Putri\n"
          ]
        }
      ]
    },
    {
      "cell_type": "markdown",
      "source": [
        "#Menampilkan Nilai Variabel"
      ],
      "metadata": {
        "id": "fzM8MdmKO1ZM"
      }
    },
    {
      "cell_type": "code",
      "source": [
        "BB = 50\n",
        "print(BB)"
      ],
      "metadata": {
        "colab": {
          "base_uri": "https://localhost:8080/"
        },
        "id": "Yraec813O7Ei",
        "outputId": "1198eded-e66a-41e6-f745-b33aa22ceea3"
      },
      "execution_count": null,
      "outputs": [
        {
          "output_type": "stream",
          "name": "stdout",
          "text": [
            "50\n"
          ]
        }
      ]
    },
    {
      "cell_type": "code",
      "source": [
        "UMUR = 16\n",
        "print(UMUR)"
      ],
      "metadata": {
        "colab": {
          "base_uri": "https://localhost:8080/"
        },
        "id": "1hCnOrxLPFz-",
        "outputId": "d0d06bf1-709b-4d9c-8d06-492466ca0a79"
      },
      "execution_count": null,
      "outputs": [
        {
          "output_type": "stream",
          "name": "stdout",
          "text": [
            "16\n"
          ]
        }
      ]
    },
    {
      "cell_type": "code",
      "source": [
        "nama = \"Andini Aufa Putri\""
      ],
      "metadata": {
        "id": "FU0o0RBJPRwC"
      },
      "execution_count": null,
      "outputs": []
    },
    {
      "cell_type": "markdown",
      "source": [
        "#Menampilkan Variabel dan Teks Bebas"
      ],
      "metadata": {
        "id": "BwMwz6FLB-KE"
      }
    },
    {
      "cell_type": "code",
      "source": [
        "print (f\"umur saya {UMUR} tahun\")"
      ],
      "metadata": {
        "colab": {
          "base_uri": "https://localhost:8080/"
        },
        "id": "iQEz2-ssW2Bi",
        "outputId": "c7273101-b7a0-46fe-afb8-b7fc2884c9ec"
      },
      "execution_count": null,
      "outputs": [
        {
          "output_type": "stream",
          "name": "stdout",
          "text": [
            "umur saya 16 tahun\n"
          ]
        }
      ]
    },
    {
      "cell_type": "code",
      "source": [
        "print (\"Halo \" + nama)"
      ],
      "metadata": {
        "colab": {
          "base_uri": "https://localhost:8080/"
        },
        "id": "A4mHHStuXNEZ",
        "outputId": "5dcd204b-6570-41ae-871a-fd4f2fab21f9"
      },
      "execution_count": null,
      "outputs": [
        {
          "output_type": "stream",
          "name": "stdout",
          "text": [
            "Halo Andini Aufa Putri\n"
          ]
        }
      ]
    },
    {
      "cell_type": "markdown",
      "source": [
        "#Menampilkan Teks Bebas dan Variabel"
      ],
      "metadata": {
        "id": "ujUd05mVWsqi"
      }
    },
    {
      "cell_type": "code",
      "source": [
        "harga_telur = 26000\n",
        "print(\"Harga telur per 1 kg adalah\", harga_telur)"
      ],
      "metadata": {
        "colab": {
          "base_uri": "https://localhost:8080/"
        },
        "id": "jG9aoMVHBF4Z",
        "outputId": "5ade5d4c-d628-4b5c-b3c8-28730a367f83"
      },
      "execution_count": null,
      "outputs": [
        {
          "output_type": "stream",
          "name": "stdout",
          "text": [
            "Harga telur per 1 kg adalah 26000\n"
          ]
        }
      ]
    },
    {
      "cell_type": "code",
      "source": [
        "harga_telur = 26000\n",
        "print(\"Harga telur per 1 kg adalah \" + str(harga_telur))"
      ],
      "metadata": {
        "colab": {
          "base_uri": "https://localhost:8080/"
        },
        "id": "-a63xgx9DKp3",
        "outputId": "784a60d8-3d4c-4362-b112-8e09a24ee512"
      },
      "execution_count": null,
      "outputs": [
        {
          "output_type": "stream",
          "name": "stdout",
          "text": [
            "Harga telur per 1 kg adalah 26000\n"
          ]
        }
      ]
    },
    {
      "cell_type": "code",
      "source": [
        "nama_pembeli = \"Andini\"\n",
        "print(\"Nama pembeli telur adalah \" + nama_pembeli)"
      ],
      "metadata": {
        "colab": {
          "base_uri": "https://localhost:8080/"
        },
        "id": "1gCHJl0IE0uU",
        "outputId": "3ba33e0d-05a3-4c99-ba53-795155933f5b"
      },
      "execution_count": null,
      "outputs": [
        {
          "output_type": "stream",
          "name": "stdout",
          "text": [
            "Nama pembeli telur adalah Andini\n"
          ]
        }
      ]
    },
    {
      "cell_type": "markdown",
      "source": [
        "Latihan soal\n",
        "1. Tampilkan teks bebas: Hari ini saya bahagia belajar bahasa python\n",
        "2. Tampilkan nilai variabel: mata_pelajaran_favorit = Kode dan Kecerdasan Buatan\n",
        "3. Tampilkan nilai variabel: nilai_kka = 100\n",
        "4. Tampilkan teks bebas dan nilai variabel dengan tiga metode (f string, \"+\",\",\"):\"Nilai KKA saya adalah {nilai_kka}loh!\""
      ],
      "metadata": {
        "id": "qz5MeHplGp6o"
      }
    },
    {
      "cell_type": "code",
      "source": [
        "print(\"Hari ini saya bahagia belajar python\")"
      ],
      "metadata": {
        "colab": {
          "base_uri": "https://localhost:8080/"
        },
        "id": "qk3M3H0nPvx_",
        "outputId": "d22bbda9-2651-4fa7-babe-632473954057"
      },
      "execution_count": null,
      "outputs": [
        {
          "output_type": "stream",
          "name": "stdout",
          "text": [
            "Hari ini saya bahagia belajar python\n"
          ]
        }
      ]
    },
    {
      "cell_type": "code",
      "source": [
        "mata_pelajaran_favorit=\"Kode dan Kecerdasan buatan\"\n",
        "print(mata_pelajaran_favorit)"
      ],
      "metadata": {
        "colab": {
          "base_uri": "https://localhost:8080/"
        },
        "id": "wVMv9d8LZ8y3",
        "outputId": "d083e68b-4d79-472b-ef7d-d398c8733e63"
      },
      "execution_count": null,
      "outputs": [
        {
          "output_type": "stream",
          "name": "stdout",
          "text": [
            "Kode dan Kecerdasan buatan\n"
          ]
        }
      ]
    },
    {
      "cell_type": "code",
      "source": [
        "nilai_kka = 100\n",
        "print(nilai_kka)"
      ],
      "metadata": {
        "colab": {
          "base_uri": "https://localhost:8080/"
        },
        "id": "QRCWfw-WbYpj",
        "outputId": "858eb2e6-3dc8-484b-9c43-ad558b1e8c7a"
      },
      "execution_count": null,
      "outputs": [
        {
          "output_type": "stream",
          "name": "stdout",
          "text": [
            "100\n"
          ]
        }
      ]
    },
    {
      "cell_type": "code",
      "source": [
        "print(f\"Nilai KKA saya adalah seorang {nilai_kka} loh!\")"
      ],
      "metadata": {
        "colab": {
          "base_uri": "https://localhost:8080/"
        },
        "id": "vvyy0b-Nbo2p",
        "outputId": "5b1289eb-a41c-4525-e2fc-e06121c36561"
      },
      "execution_count": null,
      "outputs": [
        {
          "output_type": "stream",
          "name": "stdout",
          "text": [
            "Nilai KKA saya adalah seorang 100 loh!\n"
          ]
        }
      ]
    },
    {
      "cell_type": "code",
      "source": [
        "print(\"Nilai KKA saya adalah \" + str(nilai_kka) + \" loh!\" )"
      ],
      "metadata": {
        "colab": {
          "base_uri": "https://localhost:8080/"
        },
        "id": "1JwdyCXXb6uc",
        "outputId": "fc500c51-6778-43b7-9da1-55f808d6033b"
      },
      "execution_count": null,
      "outputs": [
        {
          "output_type": "stream",
          "name": "stdout",
          "text": [
            "Nilai KKA saya adalah 100 loh!\n"
          ]
        }
      ]
    },
    {
      "cell_type": "code",
      "source": [
        "print(\"Nilai KKA saya adalah\", nilai_kka, \"loh!\")"
      ],
      "metadata": {
        "colab": {
          "base_uri": "https://localhost:8080/"
        },
        "id": "Syei1ZvIdvnC",
        "outputId": "88373f4c-690a-474f-c43e-63a4ee3a5b24"
      },
      "execution_count": null,
      "outputs": [
        {
          "output_type": "stream",
          "name": "stdout",
          "text": [
            "Nilai KKA saya adalah 100 loh!\n"
          ]
        }
      ]
    },
    {
      "cell_type": "markdown",
      "source": [
        "#Escape Character"
      ],
      "metadata": {
        "id": "zTKPZ8LXJLTk"
      }
    },
    {
      "cell_type": "code",
      "source": [
        "print(\"Nama: Andini Aufa Putri\")\n",
        "print(\"Kelas: Xl.1\")\n",
        "print(\"Nomor Absen: 05\")"
      ],
      "metadata": {
        "colab": {
          "base_uri": "https://localhost:8080/"
        },
        "id": "gYSE1EY2JVLt",
        "outputId": "d9f3a48b-3e8c-4603-abdd-906117e7185f"
      },
      "execution_count": null,
      "outputs": [
        {
          "output_type": "stream",
          "name": "stdout",
          "text": [
            "Nama: Andini Aufa Putri\n",
            "Kelas: Xl.1\n",
            "Nomor Absen: 05\n"
          ]
        }
      ]
    },
    {
      "cell_type": "code",
      "source": [
        "print(\"Nama\\t\\t: Andini Aufa Putri\\nKelas\\t\\t: Xl.1\\nNomor absen\\t: 05\")"
      ],
      "metadata": {
        "colab": {
          "base_uri": "https://localhost:8080/"
        },
        "id": "FpV0DX5FKWwT",
        "outputId": "180b2c4b-6458-474a-8eed-7ebf2bf3761f"
      },
      "execution_count": null,
      "outputs": [
        {
          "output_type": "stream",
          "name": "stdout",
          "text": [
            "Nama\t\t: Andini Aufa Putri\n",
            "Kelas\t\t: Xl.1\n",
            "Nomor absen\t: 05\n"
          ]
        }
      ]
    },
    {
      "cell_type": "markdown",
      "source": [],
      "metadata": {
        "id": "tDeml14Se47N"
      }
    },
    {
      "cell_type": "code",
      "source": [
        "print(\"\"\"Nama: Andini Aufa Putri\n",
        "Kelas: Xl.1\n",
        "Nomor Absen: 05\"\"\")"
      ],
      "metadata": {
        "colab": {
          "base_uri": "https://localhost:8080/"
        },
        "id": "QmxNwFxYK6hV",
        "outputId": "a8d1ee15-7e58-4c2f-e3f3-df5e72ea60d5"
      },
      "execution_count": null,
      "outputs": [
        {
          "output_type": "stream",
          "name": "stdout",
          "text": [
            "Nama: Andini Aufa Putri\n",
            "Kelas: Xl.1\n",
            "Nomor Absen: 05\n"
          ]
        }
      ]
    },
    {
      "cell_type": "code",
      "source": [
        "print('Ja\\'far shodiq')"
      ],
      "metadata": {
        "colab": {
          "base_uri": "https://localhost:8080/"
        },
        "id": "SRKbu_FWCPEw",
        "outputId": "820a0af4-771c-41fc-a08b-6befe2e62062"
      },
      "execution_count": null,
      "outputs": [
        {
          "output_type": "stream",
          "name": "stdout",
          "text": [
            "Ja'far shodiq\n"
          ]
        }
      ]
    },
    {
      "cell_type": "code",
      "source": [
        "print(\"Ja'far shodiq\")"
      ],
      "metadata": {
        "colab": {
          "base_uri": "https://localhost:8080/"
        },
        "id": "zt1nCMbwCh6_",
        "outputId": "24686d8e-4124-4b92-8a50-f94e18a5c252"
      },
      "execution_count": null,
      "outputs": [
        {
          "output_type": "stream",
          "name": "stdout",
          "text": [
            "Ja'far shodiq\n"
          ]
        }
      ]
    },
    {
      "cell_type": "code",
      "source": [
        "print(\"Bu Shinta berkata, \\\"Semua harus menyimak pelajaran.\\\"\")"
      ],
      "metadata": {
        "colab": {
          "base_uri": "https://localhost:8080/"
        },
        "id": "Ws3VnwhhCniK",
        "outputId": "85a51e09-e277-49cf-e279-77b5bc62955c"
      },
      "execution_count": null,
      "outputs": [
        {
          "output_type": "stream",
          "name": "stdout",
          "text": [
            "Bu Shinta berkata, \"Semua harus menyimak pelajaran.\"\n"
          ]
        }
      ]
    },
    {
      "cell_type": "code",
      "source": [
        "print('Bu Shinta berkata, \"Semua harus menyimak pelajaran.\"')"
      ],
      "metadata": {
        "colab": {
          "base_uri": "https://localhost:8080/"
        },
        "id": "mM7n6ee5C7tp",
        "outputId": "8f03a6e3-e222-4ec3-9b7d-3c3522ee1930"
      },
      "execution_count": null,
      "outputs": [
        {
          "output_type": "stream",
          "name": "stdout",
          "text": [
            "Bu Shinta berkata, \"Semua harus menyimak pelajaran.\"\n"
          ]
        }
      ]
    },
    {
      "cell_type": "code",
      "source": [
        "print(\"Lokasi file video karnaval ada di D:\\\\Karnaval 2025\\\\mp4\")"
      ],
      "metadata": {
        "colab": {
          "base_uri": "https://localhost:8080/"
        },
        "id": "tUA2B5DoDJLr",
        "outputId": "35742217-8a44-4d6c-8b39-fb5292a87b44"
      },
      "execution_count": null,
      "outputs": [
        {
          "output_type": "stream",
          "name": "stdout",
          "text": [
            "Lokasi file video karnaval ada di D:\\Karnaval 2025\\mp4\n"
          ]
        }
      ]
    },
    {
      "cell_type": "markdown",
      "source": [
        "#Parameter Fungsi print"
      ],
      "metadata": {
        "id": "bpU6JxcDEdtZ"
      }
    },
    {
      "cell_type": "code",
      "source": [
        "Tahun = 2009\n",
        "Bulan = \"April\"\n",
        "Tanggal =24\n",
        "\n",
        "print(Tanggal, end=\" \")\n",
        "print(Bulan, end=\" \")\n",
        "print(Tahun)"
      ],
      "metadata": {
        "colab": {
          "base_uri": "https://localhost:8080/"
        },
        "id": "2a--RELyGwC-",
        "outputId": "2810ffc6-bd47-43c3-bfc9-26a6514572da"
      },
      "execution_count": null,
      "outputs": [
        {
          "output_type": "stream",
          "name": "stdout",
          "text": [
            "24 April 2009\n"
          ]
        }
      ]
    },
    {
      "cell_type": "code",
      "source": [
        "Tahun = 2009\n",
        "Bulan = \"April\"\n",
        "Tanggal =24\n",
        "\n",
        "print(Tanggal, Bulan, Tahun, sep=\"/\")"
      ],
      "metadata": {
        "colab": {
          "base_uri": "https://localhost:8080/"
        },
        "id": "L5wZ8hs7HgnX",
        "outputId": "e1b3cbbb-c41b-47ff-a295-95b14459ef2b"
      },
      "execution_count": null,
      "outputs": [
        {
          "output_type": "stream",
          "name": "stdout",
          "text": [
            "24/April/2009\n"
          ]
        }
      ]
    },
    {
      "cell_type": "markdown",
      "source": [
        "Latihan:\n",
        "\n",
        "Tanggal-Bulan-Tahun"
      ],
      "metadata": {
        "id": "SqvzzOfyHtRp"
      }
    },
    {
      "cell_type": "code",
      "source": [
        "Nama_depan = \"Andini\"\n",
        "Nama_belakang = \"Aufa\"\n",
        "\n",
        "print(Nama_depan, Nama_belakang)"
      ],
      "metadata": {
        "colab": {
          "base_uri": "https://localhost:8080/"
        },
        "id": "9bFEIFp1H_6U",
        "outputId": "5c39148a-56d8-4a0d-cf03-2d17c7aa9a30"
      },
      "execution_count": null,
      "outputs": [
        {
          "output_type": "stream",
          "name": "stdout",
          "text": [
            "Andini Aufa\n"
          ]
        }
      ]
    },
    {
      "cell_type": "code",
      "source": [
        "Nama_depan = \"Andini\"\n",
        "Nama_belakang = \"Aufa\"\n",
        "\n",
        "print(Nama_depan, end=\" \")\n",
        "print(Nama_belakang)"
      ],
      "metadata": {
        "colab": {
          "base_uri": "https://localhost:8080/"
        },
        "id": "eWf3puGCIdb3",
        "outputId": "38cd6929-5a06-47cf-c4cd-770a71bd0e06"
      },
      "execution_count": null,
      "outputs": [
        {
          "output_type": "stream",
          "name": "stdout",
          "text": [
            "Andini Aufa\n"
          ]
        }
      ]
    },
    {
      "cell_type": "markdown",
      "source": [
        "#Tugas Jadwal Pelajaran"
      ],
      "metadata": {
        "id": "wlVpdeztBHV5"
      }
    },
    {
      "cell_type": "code",
      "source": [
        "print('Bu Shinta berkata, \"berikut adalah judul pelajaran hari senin selasa rabu silakan disimpan di laptop masing-masing di folder local disk D:\\\\Jadwal Pelajaran\\\\Kelas Xl Semester l.\"')\n",
        "\n",
        "print(\"\\nJadwal Pelajaran Mingguan\")\n",
        "print(\"=====================================================\")\n",
        "print(\"Jam\\tSenin\\t\\tSelasa\\t\\tRabu\")\n",
        "print(\"Jam 1\\tMatematika\\tBahasa\\t\\tInformatika\")\n",
        "print(\"Jam 2\\tBahasa Ing.\\tSejarah\\t\\tMa'rifatullah\")\n",
        "print(\"Jam 3\\tInformatika\\tOlahraga\\tBiologi\")"
      ],
      "metadata": {
        "colab": {
          "base_uri": "https://localhost:8080/"
        },
        "id": "KT0JrdKKLgJL",
        "outputId": "45f1c419-d412-4e29-e0b5-68d4ae4801eb"
      },
      "execution_count": null,
      "outputs": [
        {
          "output_type": "stream",
          "name": "stdout",
          "text": [
            "Bu Shinta berkata, \"berikut adalah judul pelajaran hari senin selasa rabu silakan disimpan di laptop masing-masing di folder local disk D:\\Jadwal Pelajaran\\Kelas Xl Semester l.\"\n",
            "\n",
            "Jadwal Pelajaran Mingguan\n",
            "=====================================================\n",
            "Jam\tSenin\t\tSelasa\t\tRabu\n",
            "Jam 1\tMatematika\tBahasa\t\tInformatika\n",
            "Jam 2\tBahasa Ing.\tSejarah\t\tMa'rifatullah\n",
            "Jam 3\tInformatika\tOlahraga\tBiologi\n"
          ]
        }
      ]
    },
    {
      "cell_type": "code",
      "source": [
        "nama_siswa_1 = \"Naufal\"\n",
        "nama_siswa_2 = \"Favian\"\n",
        "nama_siswa_3 = \"Humaira\"\n",
        "nama_siswa_4 = \"Favian\"\n",
        "\n",
        "print(nama_siswa_1, nama_siswa_2, nama_siswa_3, nama_siswa_4, sep=\"~\")"
      ],
      "metadata": {
        "colab": {
          "base_uri": "https://localhost:8080/"
        },
        "id": "3SfDu7T9E1_Y",
        "outputId": "bc02f4ee-7d1b-411a-e20a-dcbb8bf10fd4"
      },
      "execution_count": null,
      "outputs": [
        {
          "output_type": "stream",
          "name": "stdout",
          "text": [
            "Naufal~Favian~Humaira~Favian\n"
          ]
        }
      ]
    },
    {
      "cell_type": "code",
      "source": [
        "nama_siswa_1 = \"Naufal\"\n",
        "nama_siswa_2 = \"Favian\"\n",
        "nama_siswa_3 = \"Humaira\"\n",
        "nama_siswa_4 = \"Favian\"\n",
        "\n",
        "print(nama_siswa_1, end=\"~\")\n",
        "print(nama_siswa_2 )\n",
        "print(nama_siswa_3, end=\"~\")\n",
        "print(nama_siswa_4)"
      ],
      "metadata": {
        "colab": {
          "base_uri": "https://localhost:8080/"
        },
        "id": "VkfsSUYcGxb6",
        "outputId": "ae88cabd-41f7-4032-fb7e-3f5dd13c7fd6"
      },
      "execution_count": null,
      "outputs": [
        {
          "output_type": "stream",
          "name": "stdout",
          "text": [
            "Naufal~Favian\n",
            "Humaira~Favian\n"
          ]
        }
      ]
    }
  ]
}